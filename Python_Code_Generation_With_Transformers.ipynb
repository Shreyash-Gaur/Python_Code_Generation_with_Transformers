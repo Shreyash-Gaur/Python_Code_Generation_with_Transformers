{
 "cells": [
  {
   "cell_type": "markdown",
   "id": "559200ca-7c69-4e46-a996-c4330e446608",
   "metadata": {},
   "source": [
    "# Importing Libraries"
   ]
  },
  {
   "cell_type": "code",
   "execution_count": 1,
   "id": "e49d87f9-7c55-462c-8ce9-39a6ea4ba19b",
   "metadata": {},
   "outputs": [],
   "source": [
    "import torch\n",
    "import torch.nn as nn\n",
    "import torch.optim as optim\n",
    "\n",
    "import torchtext\n",
    "from torchtext.legacy.data import Field, BucketIterator, Iterator\n",
    "from torchtext.legacy import data\n",
    "\n",
    "import matplotlib.pyplot as plt\n",
    "import matplotlib.ticker as ticker\n",
    "\n",
    "import spacy\n",
    "import numpy as np\n",
    "import pandas as pd\n",
    "\n",
    "import random\n",
    "import math\n",
    "import time\n",
    "import pickle"
   ]
  },
  {
   "cell_type": "code",
   "execution_count": 2,
   "id": "29007f34-2dac-4f88-8671-fda0552226ec",
   "metadata": {},
   "outputs": [
    {
     "data": {
      "text/plain": [
       "'0.9.0'"
      ]
     },
     "execution_count": 2,
     "metadata": {},
     "output_type": "execute_result"
    }
   ],
   "source": [
    "torchtext.__version__"
   ]
  },
  {
   "cell_type": "code",
   "execution_count": 3,
   "id": "28291868-cdc7-45eb-854f-10c2f56dda1f",
   "metadata": {},
   "outputs": [
    {
     "data": {
      "text/plain": [
       "device(type='cuda')"
      ]
     },
     "execution_count": 3,
     "metadata": {},
     "output_type": "execute_result"
    }
   ],
   "source": [
    "device = torch.device('cuda' if torch.cuda.is_available() else 'cpu')\n",
    "device"
   ]
  },
  {
   "cell_type": "markdown",
   "id": "52be2b67-050d-42e9-bf10-75914cde634f",
   "metadata": {},
   "source": [
    "# Reading the text file"
   ]
  },
  {
   "cell_type": "code",
   "execution_count": 4,
   "id": "bc95054d-6d96-43d3-954b-20a7ea9a3fc7",
   "metadata": {},
   "outputs": [],
   "source": [
    "f = open(\"data\\datav2.txt\", \"r\", encoding = 'UTF-8')\n",
    "file_lines = f.readlines()"
   ]
  },
  {
   "cell_type": "code",
   "execution_count": 5,
   "id": "46dfebb0-5298-4b80-b966-1edc3a30d133",
   "metadata": {},
   "outputs": [
    {
     "data": {
      "text/plain": [
       "['# Write a Python program to calculate the square root of a number without using the math module\\n',\n",
       " 'num = 16\\n',\n",
       " 'sqrt = num ** 0.5\\n',\n",
       " 'print(f\"The square root of {num} is {sqrt}\")\\n',\n",
       " '\\n',\n",
       " '\\n',\n",
       " '# Write a Python function to count the number of vowels in a string\\n',\n",
       " 'def count_vowels(s):\\n',\n",
       " \"    vowels = 'aeiouAEIOU'\\n\",\n",
       " '    count = 0\\n',\n",
       " '    for char in s:\\n',\n",
       " '        if char in vowels:\\n',\n",
       " '            count += 1\\n',\n",
       " '    return count\\n',\n",
       " '\\n',\n",
       " '\\n',\n",
       " '# Write a Python program to print the Fibonacci series up to n terms\\n',\n",
       " 'n = 10\\n',\n",
       " 'a, b = 0, 1\\n',\n",
       " 'for _ in range(n):\\n']"
      ]
     },
     "execution_count": 5,
     "metadata": {},
     "output_type": "execute_result"
    }
   ],
   "source": [
    "file_lines[:20]"
   ]
  },
  {
   "cell_type": "markdown",
   "id": "35a382e3-643d-4047-afb0-d21ab18b139e",
   "metadata": {},
   "source": [
    "\n",
    "Our dataset is formulated in a manner where every question starts with '#'. Lines between two consecutive '#' forms the solution to the question."
   ]
  },
  {
   "cell_type": "code",
   "execution_count": 6,
   "id": "df46a6c1-3cac-4a61-a84f-947a8b2ee50f",
   "metadata": {},
   "outputs": [],
   "source": [
    "dps = []\n",
    "dp = None\n",
    "for line in file_lines:\n",
    "  if line[0] == \"#\":\n",
    "    if dp:\n",
    "      dp['solution'] = ''.join(dp['solution'])\n",
    "      dps.append(dp)\n",
    "    dp = {\"question\": None, \"solution\": []}\n",
    "    dp['question'] = line[1:]\n",
    "  else:\n",
    "    dp[\"solution\"].append(line)"
   ]
  },
  {
   "cell_type": "markdown",
   "id": "2e8116d6-8013-4728-a346-6c216895945c",
   "metadata": {},
   "source": [
    "Lets take a look at the first 50 entries of the data we have parsed."
   ]
  },
  {
   "cell_type": "code",
   "execution_count": 7,
   "id": "72e8a117-41bf-4b0f-a40a-ae455d9f170e",
   "metadata": {},
   "outputs": [
    {
     "name": "stdout",
     "output_type": "stream",
     "text": [
      "\n",
      " Question no:  1\n",
      "Write a Python program to calculate the square root of a number without using the math module\n",
      "\n",
      "num = 16\n",
      "sqrt = num ** 0.5\n",
      "print(f\"The square root of {num} is {sqrt}\")\n",
      "\n",
      "\n",
      "\n",
      "\n",
      " Question no:  2\n",
      "Write a Python function to count the number of vowels in a string\n",
      "\n",
      "def count_vowels(s):\n",
      "    vowels = 'aeiouAEIOU'\n",
      "    count = 0\n",
      "    for char in s:\n",
      "        if char in vowels:\n",
      "            count += 1\n",
      "    return count\n",
      "\n",
      "\n",
      "\n",
      "\n",
      " Question no:  3\n",
      "Write a Python program to print the Fibonacci series up to n terms\n",
      "\n",
      "n = 10\n",
      "a, b = 0, 1\n",
      "for _ in range(n):\n",
      "    print(a, end=\" \")\n",
      "    a, b = b, a + b\n",
      "\n",
      "\n",
      "\n",
      "\n",
      " Question no:  4\n",
      "Write a Python function to check if a number is an Armstrong number\n",
      "\n",
      "def is_armstrong(num):\n",
      "    sum_ = sum(int(digit) ** len(str(num)) for digit in str(num))\n",
      "    return sum_ == num\n",
      "\n",
      "\n",
      "\n",
      "\n",
      " Question no:  5\n",
      "Write a Python program to reverse a string\n",
      "\n",
      "string = \"Hello World\"\n",
      "reversed_string = string[::-1]\n",
      "print(f\"Reversed string: {reversed_string}\")\n",
      "\n",
      "\n",
      "\n",
      "\n",
      " Question no:  6\n",
      "Write a Python function to find the GCD of two numbers\n",
      "\n",
      "def gcd(x, y):\n",
      "    while y:\n",
      "        x, y = y, x % y\n",
      "    return x\n",
      "\n",
      "\n",
      "\n",
      "\n",
      " Question no:  7\n",
      "Write a Python program to calculate the sum of squares of n natural numbers\n",
      "\n",
      "n = 5\n",
      "sum_of_squares = sum(i ** 2 for i in range(1, n + 1))\n",
      "print(f\"Sum of squares of first {n} natural numbers is {sum_of_squares}\")\n",
      "\n",
      "\n",
      "\n",
      "\n",
      " Question no:  8\n",
      "Write a Python function to check if a given string is a palindrome\n",
      "\n",
      "def is_palindrome(s):\n",
      "    return s == s[::-1]\n",
      "\n",
      "\n",
      "\n",
      "\n",
      " Question no:  9\n",
      "Write a Python program to count the occurrences of each word in a given sentence\n",
      "\n",
      "sentence = \"This is a test. This test is only a test.\"\n",
      "word_count = {}\n",
      "for word in sentence.split():\n",
      "    word = word.strip('.').lower()\n",
      "    word_count[word] = word_count.get(word, 0) + 1\n",
      "print(f\"Word count: {word_count}\")\n",
      "\n",
      "\n",
      "\n",
      "\n",
      " Question no:  10\n",
      "Write a Python function to find the factorial of a number using recursion\n",
      "\n",
      "def factorial(n):\n",
      "    return 1 if n == 0 else n * factorial(n - 1)\n",
      "\n",
      "\n",
      "\n",
      "\n",
      " Question no:  11\n",
      "Write a Python program to generate a random number between 1 and 100\n",
      "\n",
      "import random\n",
      "random_num = random.randint(1, 100)\n",
      "print(f\"Random number: {random_num}\")\n",
      "\n",
      "\n",
      "\n",
      "\n",
      " Question no:  12\n",
      "Write a Python function to check if a number is a prime number\n",
      "\n",
      "def is_prime(num):\n",
      "    if num <= 1:\n",
      "        return False\n",
      "    for i in range(2, int(num ** 0.5) + 1):\n",
      "        if num % i == 0:\n",
      "            return False\n",
      "    return True\n",
      "\n",
      "\n",
      "\n",
      "\n",
      " Question no:  13\n",
      "Write a Python program to convert a decimal number to binary\n",
      "\n",
      "decimal_num = 25\n",
      "binary_num = bin(decimal_num)[2:]\n",
      "print(f\"Binary of {decimal_num} is {binary_num}\")\n",
      "\n",
      "\n",
      "\n",
      "\n",
      " Question no:  14\n",
      "Write a Python function to sort a list of strings based on their length\n",
      "\n",
      "def sort_by_length(lst):\n",
      "    return sorted(lst, key=len)\n",
      "\n",
      "\n",
      "\n",
      "\n",
      " Question no:  15\n",
      "Write a Python program to find the LCM of two numbers\n",
      "\n",
      "def find_lcm(x, y):\n",
      "    greater = x if x > y else y\n",
      "    while True:\n",
      "        if greater % x == 0 and greater % y == 0:\n",
      "            lcm = greater\n",
      "            break\n",
      "        greater += 1\n",
      "    return lcm\n",
      "\n",
      "\n",
      "\n",
      "\n",
      " Question no:  16\n",
      "Write a Python program to check if a given year is a leap year\n",
      "\n",
      "def is_leap_year(year):\n",
      "    if (year % 4 == 0 and year % 100 != 0) or (year % 400 == 0):\n",
      "        return True\n",
      "    return False\n",
      "\n",
      "\n",
      "\n",
      "\n",
      " Question no:  17\n",
      "Write a Python program to find the sum of digits of a number\n",
      "\n",
      "def sum_of_digits(num):\n",
      "    return sum(int(digit) for digit in str(num))\n",
      "\n",
      "\n",
      "\n",
      "\n",
      " Question no:  18\n",
      "Write a Python function to convert a binary number to a decimal number\n",
      "\n",
      "def binary_to_decimal(binary_str):\n",
      "    return int(binary_str, 2)\n",
      "\n",
      "\n",
      "\n",
      "\n",
      " Question no:  19\n",
      "Write a Python program to calculate the area of a triangle given its base and height\n",
      "\n",
      "def calculate_triangle_area(base, height):\n",
      "    return 0.5 * base * height\n",
      "\n",
      "\n",
      "\n",
      "\n",
      " Question no:  20\n",
      "Write a Python function to check if two strings are anagrams\n",
      "\n",
      "def are_anagrams(str1, str2):\n",
      "    return sorted(str1) == sorted(str2)\n",
      "\n",
      "\n",
      "\n",
      "\n",
      " Question no:  21\n",
      "Write a Python program to generate all possible combinations of a given list\n",
      "\n",
      "from itertools import combinations\n",
      "def generate_combinations(lst):\n",
      "    return [comb for i in range(len(lst)) for comb in combinations(lst, i + 1)]\n",
      "\n",
      "\n",
      "\n",
      "\n",
      " Question no:  22\n",
      "Write a Python function to find the second largest number in a list\n",
      "\n",
      "def second_largest(lst):\n",
      "    first, second = float('-inf'), float('-inf')\n",
      "    for num in lst:\n",
      "        if num > first:\n",
      "            second = first\n",
      "            first = num\n",
      "        elif num > second and num != first:\n",
      "            second = num\n",
      "    return second\n",
      "\n",
      "\n",
      "\n",
      "\n",
      " Question no:  23\n",
      "Write a Python program to check if a number is a palindrome\n",
      "\n",
      "def is_number_palindrome(num):\n",
      "    return str(num) == str(num)[::-1]\n",
      "\n",
      "\n",
      "\n",
      "\n",
      " Question no:  24\n",
      "Write a Python function to merge two sorted lists into a single sorted list\n",
      "\n",
      "def merge_sorted_lists(lst1, lst2):\n",
      "    sorted_list = []\n",
      "    i = j = 0\n",
      "    while i < len(lst1) and j < len(lst2):\n",
      "        if lst1[i] < lst2[j]:\n",
      "            sorted_list.append(lst1[i])\n",
      "            i += 1\n",
      "        else:\n",
      "            sorted_list.append(lst2[j])\n",
      "            j += 1\n",
      "    sorted_list.extend(lst1[i:])\n",
      "    sorted_list.extend(lst2[j:])\n",
      "    return sorted_list\n",
      "\n",
      "\n",
      "\n",
      "\n",
      " Question no:  25\n",
      "Write a Python program to generate the first n prime numbers\n",
      "\n",
      "def generate_primes(n):\n",
      "    primes = []\n",
      "    candidate = 2\n",
      "    while len(primes) < n:\n",
      "        if all(candidate % prime != 0 for prime in primes):\n",
      "            primes.append(candidate)\n",
      "        candidate += 1\n",
      "    return primes\n",
      "\n",
      "\n",
      "\n",
      "\n",
      " Question no:  26\n",
      "Write a Python function to reverse the words in a sentence\n",
      "\n",
      "def reverse_words(sentence):\n",
      "    return ' '.join(sentence.split()[::-1])\n",
      "\n",
      "\n",
      "\n",
      "\n",
      " Question no:  27\n",
      "Write a Python program to find the greatest common divisor (GCD) of two numbers using recursion\n",
      "\n",
      "def gcd_recursive(x, y):\n",
      "    return x if y == 0 else gcd_recursive(y, x % y)\n",
      "\n",
      "\n",
      "\n",
      "\n",
      " Question no:  28\n",
      "Write a Python function to calculate the nth Fibonacci number using recursion\n",
      "\n",
      "def fibonacci_recursive(n):\n",
      "    if n <= 0:\n",
      "        return 0\n",
      "    elif n == 1:\n",
      "        return 1\n",
      "    else:\n",
      "        return fibonacci_recursive(n-1) + fibonacci_recursive(n-2)\n",
      "\n",
      "\n",
      "\n",
      "\n",
      " Question no:  29\n",
      "Write a Python program to count the frequency of each character in a string\n",
      "\n",
      "def char_frequency(s):\n",
      "    frequency = {}\n",
      "    for char in s:\n",
      "        frequency[char] = frequency.get(char, 0) + 1\n",
      "    return frequency\n",
      "\n",
      "\n",
      "\n",
      "\n",
      " Question no:  30\n",
      "Write a Python program to convert a list of tuples into a dictionary\n",
      "\n",
      "def tuples_to_dict(tuples):\n",
      "    return {key: value for key, value in tuples}\n",
      "\n",
      "\n",
      "\n",
      "\n",
      " Question no:  31\n",
      "Write a Python function to check if a string is a valid IPv4 address\n",
      "\n",
      "def is_valid_ipv4(ip):\n",
      "    parts = ip.split(\".\")\n",
      "    if len(parts) != 4:\n",
      "        return False\n",
      "    for part in parts:\n",
      "        if not part.isdigit() or not 0 <= int(part) <= 255:\n",
      "            return False\n",
      "    return True\n",
      "\n",
      "\n",
      "\n",
      "\n",
      " Question no:  32\n",
      "Write a Python program to find the transpose of a matrix\n",
      "\n",
      "def transpose_matrix(matrix):\n",
      "    return list(map(list, zip(*matrix)))\n",
      "\n",
      "\n",
      "\n",
      "\n",
      " Question no:  33\n",
      "Write a Python function to flatten a nested list\n",
      "\n",
      "def flatten_list(nested_list):\n",
      "    flat_list = []\n",
      "    for item in nested_list:\n",
      "        if isinstance(item, list):\n",
      "            flat_list.extend(flatten_list(item))\n",
      "        else:\n",
      "            flat_list.append(item)\n",
      "    return flat_list\n",
      "\n",
      "\n",
      "\n",
      "\n",
      " Question no:  34\n",
      "Write a Python function to find the longest common prefix in a list of strings\n",
      "\n",
      "def longest_common_prefix(strs):\n",
      "    if not strs:\n",
      "        return \"\"\n",
      "    prefix = strs[0]\n",
      "    for s in strs[1:]:\n",
      "        while not s.startswith(prefix):\n",
      "            prefix = prefix[:-1]\n",
      "            if not prefix:\n",
      "                return \"\"\n",
      "    return prefix\n",
      "\n",
      "\n",
      "\n",
      "\n",
      " Question no:  35\n",
      "Write a Python function to find all permutations of a given string\n",
      "\n",
      "from itertools import permutations\n",
      "def string_permutations(s):\n",
      "    return [''.join(p) for p in permutations(s)]\n",
      "\n",
      "\n",
      "\n",
      "\n",
      " Question no:  36\n",
      "Write a Python program to implement the bubble sort algorithm\n",
      "\n",
      "def bubble_sort(lst):\n",
      "    n = len(lst)\n",
      "    for i in range(n):\n",
      "        for j in range(0, n-i-1):\n",
      "            if lst[j] > lst[j+1]:\n",
      "                lst[j], lst[j+1] = lst[j+1], lst[j]\n",
      "    return lst\n",
      "\n",
      "\n",
      "\n",
      "\n",
      " Question no:  37\n",
      "Write a Python function to check if a list is a palindrome\n",
      "\n",
      "def is_list_palindrome(lst):\n",
      "    return lst == lst[::-1]\n",
      "\n",
      "\n",
      "\n",
      "\n",
      " Question no:  38\n",
      "Write a Python function to generate the power set of a given set\n",
      "\n",
      "def power_set(s):\n",
      "    from itertools import chain, combinations\n",
      "    return list(chain.from_iterable(combinations(s, r) for r in range(len(s)+1)))\n",
      "\n",
      "\n",
      "\n",
      "\n",
      " Question no:  39\n",
      "Write a Python function to check if a number is a perfect square\n",
      "\n",
      "def is_perfect_square(num):\n",
      "    return num == int(num ** 0.5) ** 2\n",
      "\n",
      "\n",
      "\n",
      "\n",
      " Question no:  40\n",
      "Write a Python program to implement the selection sort algorithm\n",
      "\n",
      "def selection_sort(lst):\n",
      "    for i in range(len(lst)):\n",
      "        min_index = i\n",
      "        for j in range(i+1, len(lst)):\n",
      "            if lst[j] < lst[min_index]:\n",
      "                min_index = j\n",
      "        lst[i], lst[min_index] = lst[min_index], lst[i]\n",
      "    return lst\n",
      "\n",
      "\n",
      "\n",
      "\n",
      " Question no:  41\n",
      "Write a Python function to find the intersection of two lists\n",
      "\n",
      "def list_intersection(lst1, lst2):\n",
      "    return list(set(lst1) & set(lst2))\n",
      "\n",
      "\n",
      "\n",
      "\n",
      " Question no:  42\n",
      "Write a Python program to find the first non-repeating character in a string\n",
      "\n",
      "def first_non_repeating_char(s):\n",
      "    frequency = {}\n",
      "    for char in s:\n",
      "        frequency[char] = frequency.get(char, 0) + 1\n",
      "    for char in s:\n",
      "        if frequency[char] == 1:\n",
      "            return char\n",
      "    return None\n",
      "\n",
      "\n",
      "\n",
      "\n",
      " Question no:  43\n",
      "write a python program to add two numbers \n",
      "\n",
      "num1 = 1.5\n",
      "num2 = 6.3\n",
      "sum = num1 + num2\n",
      "print(f'Sum: {sum}')\n",
      "\n",
      "\n",
      "\n",
      "\n",
      " Question no:  44\n",
      "write a python function to add two user provided numbers and return the sum\n",
      "\n",
      "def add_two_numbers(num1, num2):\n",
      "    sum = num1 + num2\n",
      "    return sum\n",
      "\n",
      "\n",
      "\n",
      "\n",
      " Question no:  45\n",
      "write a program to find and print the largest among three numbers\n",
      "\n",
      "\n",
      "num1 = 10\n",
      "num2 = 12\n",
      "num3 = 14\n",
      "if (num1 >= num2) and (num1 >= num3):\n",
      "   largest = num1\n",
      "elif (num2 >= num1) and (num2 >= num3):\n",
      "   largest = num2\n",
      "else:\n",
      "   largest = num3\n",
      "print(f'largest:{largest}')\n",
      "\n",
      "\n",
      "\n",
      "\n",
      " Question no:  46\n",
      "write a program to find and print the smallest among three numbers\n",
      "\n",
      "num1 = 10\n",
      "num2 = 12\n",
      "num3 = 14\n",
      "if (num1 <= num2) and (num1 <= num3):\n",
      "   smallest = num1\n",
      "elif (num2 <= num1) and (num2 <= num3):\n",
      "   smallest = num2\n",
      "else:\n",
      "   smallest = num3\n",
      "print(f'smallest:{smallest}')\n",
      "\n",
      "\n",
      "\n",
      "\n",
      " Question no:  47\n",
      "Write a python function to merge two given lists into one\n",
      "\n",
      "def merge_lists(l1, l2):\n",
      "    return l1 + l2\n",
      "\n",
      "\n",
      "\n",
      "\n",
      " Question no:  48\n",
      "Write a program to check whether a number is prime or not\n",
      "\n",
      "num = 337\n",
      "\n",
      "if num > 1:\n",
      "   for i in range(2, num//2 + 1):\n",
      "       if (num % i) == 0:\n",
      "           print(num,\"is not a prime number\")\n",
      "           print(f\"{i} times {num//i} is {num}\")\n",
      "           break\n",
      "   else:\n",
      "       print(f\"{num} is a prime number\")\n",
      "\n",
      "else:\n",
      "   print(f\"{num} is not a prime number\")\n",
      "\n",
      "\n",
      "\n",
      "\n",
      " Question no:  49\n",
      "Write a python function that prints the factors of a given number\n",
      "\n",
      "def print_factors(x):\n",
      "   print(f\"The factors of {x} are:\")\n",
      "   for i in range(1, x + 1):\n",
      "       if x % i == 0:\n",
      "           print(i)\n",
      "\n",
      "\n",
      "\n",
      " Question no:  50\n",
      "Write a program to find the factorial of a number\n",
      "\n",
      "num = 13\n",
      "factorial = 1\n",
      "\n",
      "if num < 0:\n",
      "   print(\"No factorials for negative numbers!\")\n",
      "\n",
      "elif num == 0:\n",
      "   print(\"The factorial of 0 is 1\")\n",
      "\n",
      "else:\n",
      "   for i in range(1,num + 1):\n",
      "       factorial = factorial*i\n",
      "   print(f\"The factorial of {num} is {factorial}\")\n",
      "\n",
      "\n",
      "\n"
     ]
    }
   ],
   "source": [
    "i=0\n",
    "for dp in dps:\n",
    "  print(\"\\n Question no: \", i+1)\n",
    "  i+=1\n",
    "  print(dp['question'][1:])\n",
    "  print(dp['solution'])\n",
    "  if i>49:\n",
    "    break"
   ]
  },
  {
   "cell_type": "code",
   "execution_count": 8,
   "id": "e1465d28-b96c-49c5-800c-9bda3f6bbea1",
   "metadata": {},
   "outputs": [
    {
     "name": "stdout",
     "output_type": "stream",
     "text": [
      "Dataset size: 5228\n"
     ]
    }
   ],
   "source": [
    "print(\"Dataset size:\", len(dps))"
   ]
  },
  {
   "cell_type": "markdown",
   "id": "ac74c961-06e5-4d49-bb79-9f10a1be2bcb",
   "metadata": {},
   "source": [
    "# Using a custom tokenizer to tokenize python code\n",
    "Python is a programming language with its own unique syntax. Regular tokenizers like spacy are meant to tokenize english scentences and are not optimized towards Python's syntax. Here, we write our own custom tokenizer that makes use of Python's default tokenize library. When we make use of this library we only extract the token type and the token string."
   ]
  },
  {
   "cell_type": "code",
   "execution_count": 9,
   "id": "25188a79-5f68-41cd-a2bd-18cd3cc326ab",
   "metadata": {},
   "outputs": [],
   "source": [
    "from tokenize import tokenize, untokenize\n",
    "import io\n",
    "def tokenize_python_code(python_code_str):\n",
    "    python_tokens = list(tokenize(io.BytesIO(python_code_str.encode('utf-8')).readline))\n",
    "    tokenized_output = []\n",
    "    for i in range(0, len(python_tokens)):\n",
    "        tokenized_output.append((python_tokens[i].type, python_tokens[i].string))\n",
    "    return tokenized_output"
   ]
  },
  {
   "cell_type": "code",
   "execution_count": 10,
   "id": "b2f93cda-e21c-430c-98d8-9594c9351654",
   "metadata": {},
   "outputs": [
    {
     "name": "stdout",
     "output_type": "stream",
     "text": [
      "[(62, 'utf-8'), (1, 'def'), (1, 'count_vowels'), (54, '('), (1, 's'), (54, ')'), (54, ':'), (4, '\\n'), (5, '    '), (1, 'vowels'), (54, '='), (3, \"'aeiouAEIOU'\"), (4, '\\n'), (1, 'count'), (54, '='), (2, '0'), (4, '\\n'), (1, 'for'), (1, 'char'), (1, 'in'), (1, 's'), (54, ':'), (4, '\\n'), (5, '        '), (1, 'if'), (1, 'char'), (1, 'in'), (1, 'vowels'), (54, ':'), (4, '\\n'), (5, '            '), (1, 'count'), (54, '+='), (2, '1'), (4, '\\n'), (6, ''), (6, ''), (1, 'return'), (1, 'count'), (4, '\\n'), (61, '\\n'), (61, '\\n'), (6, ''), (0, '')]\n"
     ]
    }
   ],
   "source": [
    "tokenized_sample = tokenize_python_code(dps[1]['solution'])\n",
    "print(tokenized_sample)"
   ]
  },
  {
   "cell_type": "code",
   "execution_count": 11,
   "id": "35648b04-c674-4f79-827b-465bc7c7a12f",
   "metadata": {},
   "outputs": [
    {
     "name": "stdout",
     "output_type": "stream",
     "text": [
      "def count_vowels (s ):\n",
      "    vowels ='aeiouAEIOU'\n",
      "    count =0 \n",
      "    for char in s :\n",
      "        if char in vowels :\n",
      "            count +=1 \n",
      "    return count \n",
      "\n",
      "\n",
      "\n"
     ]
    }
   ],
   "source": [
    "print(untokenize(tokenized_sample).decode('utf-8'))"
   ]
  },
  {
   "cell_type": "markdown",
   "id": "d031fabd-fd9d-4419-a3f1-677f193606ab",
   "metadata": {},
   "source": [
    "Since we have mere 5000 data points, we make use of data augmentations to increase the size of our dataset. While tokenizing the python code, we mask the names of certain variables randomly(with 'var_1, 'var_2' etc) to ensure that the model that we train does not merly fixate on the way the variables are named and actually tries to understand the inhrent logic and syntax of the python code.\n",
    "\n",
    "But, while randomly picking varibles to mask we avoid keyword literals(keyword.kwlist), control structures(as can be seen in below skip_list) and object properties. We add all such literals that need to be skipped into the skip_list\n",
    "\n",
    "skip_list = ['range', 'enumerate', 'print', 'ord', 'int', 'float', 'char', 'list', 'dict', 'tuple', 'set', 'len', 'sum', 'min', 'max']"
   ]
  },
  {
   "cell_type": "code",
   "execution_count": 12,
   "id": "1382078f-6d10-4a3c-b2aa-4b3326566106",
   "metadata": {},
   "outputs": [
    {
     "name": "stdout",
     "output_type": "stream",
     "text": [
      "['False', 'None', 'True', 'and', 'as', 'assert', 'async', 'await', 'break', 'class', 'continue', 'def', 'del', 'elif', 'else', 'except', 'finally', 'for', 'from', 'global', 'if', 'import', 'in', 'is', 'lambda', 'nonlocal', 'not', 'or', 'pass', 'raise', 'return', 'try', 'while', 'with', 'yield']\n"
     ]
    }
   ],
   "source": [
    "import keyword\n",
    "\n",
    "print(keyword.kwlist)"
   ]
  },
  {
   "cell_type": "code",
   "execution_count": 13,
   "id": "f02c5881-b71a-4fcf-ba40-76666e495c4e",
   "metadata": {},
   "outputs": [],
   "source": [
    "def augment_tokenize_python_code(python_code_str, mask_factor=0.3):\n",
    "\n",
    "\n",
    "    var_dict = {} # Dictionary that stores masked variables\n",
    "\n",
    "    # certain reserved words that should not be treated as normal variables and\n",
    "    # hence need to be skipped from our variable mask augmentations\n",
    "    skip_list = ['range', 'enumerate', 'print', 'ord', 'int', 'float', 'zip'\n",
    "                 'char', 'list', 'dict', 'tuple', 'set', 'len', 'sum', 'min', 'max']\n",
    "    skip_list.extend(keyword.kwlist)\n",
    "\n",
    "    var_counter = 1\n",
    "    python_tokens = list(tokenize(io.BytesIO(python_code_str.encode('utf-8')).readline))\n",
    "    tokenized_output = []\n",
    "\n",
    "    for i in range(0, len(python_tokens)):\n",
    "      if python_tokens[i].type == 1 and python_tokens[i].string not in skip_list:\n",
    "        \n",
    "        if i>0 and python_tokens[i-1].string in ['def', '.', 'import', 'raise', 'except', 'class']: # avoid masking modules, functions and error literals\n",
    "          skip_list.append(python_tokens[i].string)\n",
    "          tokenized_output.append((python_tokens[i].type, python_tokens[i].string))\n",
    "        elif python_tokens[i].string in var_dict:  # if variable is already masked\n",
    "          tokenized_output.append((python_tokens[i].type, var_dict[python_tokens[i].string]))\n",
    "        elif random.uniform(0, 1) > 1-mask_factor: # randomly mask variables\n",
    "          var_dict[python_tokens[i].string] = 'var_' + str(var_counter)\n",
    "          var_counter+=1\n",
    "          tokenized_output.append((python_tokens[i].type, var_dict[python_tokens[i].string]))\n",
    "        else:\n",
    "          skip_list.append(python_tokens[i].string)\n",
    "          tokenized_output.append((python_tokens[i].type, python_tokens[i].string))\n",
    "      \n",
    "      else:\n",
    "        tokenized_output.append((python_tokens[i].type, python_tokens[i].string))\n",
    "    \n",
    "    return tokenized_output"
   ]
  },
  {
   "cell_type": "code",
   "execution_count": 14,
   "id": "76f3c137-030b-4719-8b1f-63b2c52a966f",
   "metadata": {},
   "outputs": [
    {
     "name": "stdout",
     "output_type": "stream",
     "text": [
      "[(62, 'utf-8'), (1, 'def'), (1, 'count_vowels'), (54, '('), (1, 's'), (54, ')'), (54, ':'), (4, '\\n'), (5, '    '), (1, 'vowels'), (54, '='), (3, \"'aeiouAEIOU'\"), (4, '\\n'), (1, 'count'), (54, '='), (2, '0'), (4, '\\n'), (1, 'for'), (1, 'char'), (1, 'in'), (1, 's'), (54, ':'), (4, '\\n'), (5, '        '), (1, 'if'), (1, 'char'), (1, 'in'), (1, 'vowels'), (54, ':'), (4, '\\n'), (5, '            '), (1, 'count'), (54, '+='), (2, '1'), (4, '\\n'), (6, ''), (6, ''), (1, 'return'), (1, 'count'), (4, '\\n'), (61, '\\n'), (61, '\\n'), (6, ''), (0, '')]\n"
     ]
    }
   ],
   "source": [
    "tokenized_sample = augment_tokenize_python_code(dps[1]['solution'])\n",
    "print(tokenized_sample)"
   ]
  },
  {
   "cell_type": "code",
   "execution_count": 15,
   "id": "1d6b1423-d59d-4672-8c5a-5e935cff45fc",
   "metadata": {},
   "outputs": [
    {
     "name": "stdout",
     "output_type": "stream",
     "text": [
      "def count_vowels (s ):\n",
      "    vowels ='aeiouAEIOU'\n",
      "    count =0 \n",
      "    for char in s :\n",
      "        if char in vowels :\n",
      "            count +=1 \n",
      "    return count \n",
      "\n",
      "\n",
      "\n"
     ]
    }
   ],
   "source": [
    "print(untokenize(tokenized_sample).decode('utf-8'))"
   ]
  },
  {
   "cell_type": "markdown",
   "id": "5fd812a8-cb32-4732-bd56-0ff7b3335967",
   "metadata": {},
   "source": [
    "As one can see our augmented tokenizer picked num2 randomly and masked(replaced) it with by var_1\n"
   ]
  },
  {
   "cell_type": "markdown",
   "id": "1199f40c-24e8-421e-8e6f-9f94101e2a54",
   "metadata": {},
   "source": [
    "# Building Train and Validation Datase"
   ]
  },
  {
   "cell_type": "code",
   "execution_count": 16,
   "id": "eb418f04-8441-4908-b8d5-7f9b9f5943d6",
   "metadata": {},
   "outputs": [],
   "source": [
    "python_problems_df = pd.DataFrame(dps)"
   ]
  },
  {
   "cell_type": "code",
   "execution_count": 17,
   "id": "156cef4f-95c9-4f7b-b2a6-77cc3d267c2d",
   "metadata": {},
   "outputs": [
    {
     "data": {
      "text/html": [
       "<div>\n",
       "<style scoped>\n",
       "    .dataframe tbody tr th:only-of-type {\n",
       "        vertical-align: middle;\n",
       "    }\n",
       "\n",
       "    .dataframe tbody tr th {\n",
       "        vertical-align: top;\n",
       "    }\n",
       "\n",
       "    .dataframe thead th {\n",
       "        text-align: right;\n",
       "    }\n",
       "</style>\n",
       "<table border=\"1\" class=\"dataframe\">\n",
       "  <thead>\n",
       "    <tr style=\"text-align: right;\">\n",
       "      <th></th>\n",
       "      <th>question</th>\n",
       "      <th>solution</th>\n",
       "    </tr>\n",
       "  </thead>\n",
       "  <tbody>\n",
       "    <tr>\n",
       "      <th>0</th>\n",
       "      <td>Write a Python program to calculate the squar...</td>\n",
       "      <td>num = 16\\nsqrt = num ** 0.5\\nprint(f\"The squar...</td>\n",
       "    </tr>\n",
       "    <tr>\n",
       "      <th>1</th>\n",
       "      <td>Write a Python function to count the number o...</td>\n",
       "      <td>def count_vowels(s):\\n    vowels = 'aeiouAEIOU...</td>\n",
       "    </tr>\n",
       "    <tr>\n",
       "      <th>2</th>\n",
       "      <td>Write a Python program to print the Fibonacci...</td>\n",
       "      <td>n = 10\\na, b = 0, 1\\nfor _ in range(n):\\n    p...</td>\n",
       "    </tr>\n",
       "    <tr>\n",
       "      <th>3</th>\n",
       "      <td>Write a Python function to check if a number ...</td>\n",
       "      <td>def is_armstrong(num):\\n    sum_ = sum(int(dig...</td>\n",
       "    </tr>\n",
       "    <tr>\n",
       "      <th>4</th>\n",
       "      <td>Write a Python program to reverse a string\\n</td>\n",
       "      <td>string = \"Hello World\"\\nreversed_string = stri...</td>\n",
       "    </tr>\n",
       "  </tbody>\n",
       "</table>\n",
       "</div>"
      ],
      "text/plain": [
       "                                            question  \\\n",
       "0   Write a Python program to calculate the squar...   \n",
       "1   Write a Python function to count the number o...   \n",
       "2   Write a Python program to print the Fibonacci...   \n",
       "3   Write a Python function to check if a number ...   \n",
       "4       Write a Python program to reverse a string\\n   \n",
       "\n",
       "                                            solution  \n",
       "0  num = 16\\nsqrt = num ** 0.5\\nprint(f\"The squar...  \n",
       "1  def count_vowels(s):\\n    vowels = 'aeiouAEIOU...  \n",
       "2  n = 10\\na, b = 0, 1\\nfor _ in range(n):\\n    p...  \n",
       "3  def is_armstrong(num):\\n    sum_ = sum(int(dig...  \n",
       "4  string = \"Hello World\"\\nreversed_string = stri...  "
      ]
     },
     "execution_count": 17,
     "metadata": {},
     "output_type": "execute_result"
    }
   ],
   "source": [
    "python_problems_df.head()"
   ]
  },
  {
   "cell_type": "code",
   "execution_count": 18,
   "id": "01b3c727-cc83-4b5a-8067-a317795e2c2b",
   "metadata": {},
   "outputs": [
    {
     "data": {
      "text/plain": [
       "(5228, 2)"
      ]
     },
     "execution_count": 18,
     "metadata": {},
     "output_type": "execute_result"
    }
   ],
   "source": [
    "python_problems_df.shape"
   ]
  },
  {
   "cell_type": "code",
   "execution_count": 19,
   "id": "2961475e-65d8-428b-86cc-9165ce42ce65",
   "metadata": {},
   "outputs": [],
   "source": [
    "np.random.seed(0)\n",
    "msk = np.random.rand(len(python_problems_df)) < 0.85 # Splitting data into 85% train and 15% validation\n",
    "\n",
    "train_df = python_problems_df[msk]\n",
    "val_df = python_problems_df[~msk]"
   ]
  },
  {
   "cell_type": "code",
   "execution_count": 20,
   "id": "559d0793-3905-4d83-a43a-7af7ffcc7a27",
   "metadata": {},
   "outputs": [
    {
     "data": {
      "text/plain": [
       "(4452, 2)"
      ]
     },
     "execution_count": 20,
     "metadata": {},
     "output_type": "execute_result"
    }
   ],
   "source": [
    "train_df.shape"
   ]
  },
  {
   "cell_type": "code",
   "execution_count": 21,
   "id": "f3050660-4ac8-4908-be5a-9b1625c42251",
   "metadata": {},
   "outputs": [
    {
     "data": {
      "text/plain": [
       "(776, 2)"
      ]
     },
     "execution_count": 21,
     "metadata": {},
     "output_type": "execute_result"
    }
   ],
   "source": [
    "val_df.shape"
   ]
  },
  {
   "cell_type": "markdown",
   "id": "13590f08-763f-4350-a921-62cbb67692d7",
   "metadata": {},
   "source": [
    "# \n",
    "Creating vocabulary using torchtext\n",
    "In this section we will use torchtext Fields to construct the vocabulary for our sequence-to-sequence learning problem."
   ]
  },
  {
   "cell_type": "code",
   "execution_count": 22,
   "id": "a1a9dc3a-371c-4b9c-a4ec-ec438fc6528f",
   "metadata": {},
   "outputs": [],
   "source": [
    "SEED = 1234\n",
    "\n",
    "random.seed(SEED)\n",
    "torch.manual_seed(SEED)\n",
    "torch.cuda.manual_seed(SEED)\n",
    "torch.backends.cudnn.deterministic = True"
   ]
  },
  {
   "cell_type": "code",
   "execution_count": 23,
   "id": "f70dadef-8cc9-47ad-839a-1db05b113e59",
   "metadata": {},
   "outputs": [
    {
     "name": "stderr",
     "output_type": "stream",
     "text": [
      "C:\\Users\\shrey\\anaconda3\\envs\\Testing\\lib\\site-packages\\torchtext\\data\\utils.py:123: UserWarning: Spacy model \"en\" could not be loaded, trying \"en_core_web_sm\" instead\n",
      "  warnings.warn(f'Spacy model \"{language}\" could not be loaded, trying \"{OLD_MODEL_SHORTCUTS[language]}\" instead')\n"
     ]
    }
   ],
   "source": [
    "Input = data.Field(tokenize = 'spacy',\n",
    "            init_token='', \n",
    "            eos_token='', \n",
    "            lower=True)\n",
    "\n",
    "Output = data.Field(tokenize = augment_tokenize_python_code,\n",
    "                    init_token='', \n",
    "                    eos_token='', \n",
    "                    lower=False)"
   ]
  },
  {
   "cell_type": "code",
   "execution_count": 24,
   "id": "3f509077-2511-4ec4-9e5e-453631cb349b",
   "metadata": {},
   "outputs": [],
   "source": [
    "fields = [('Input', Input),('Output', Output)]"
   ]
  },
  {
   "cell_type": "markdown",
   "id": "bc1e218b-98b3-453e-81e4-ba666c31893f",
   "metadata": {},
   "source": [
    "Since our data augmentations have the potential to increase the vocabulary beyond what it initially is, we must ensure that we capture as many variations as possible in the vocabulary that we develop. In the the below code we apply our data augmentations 100 times to ensure that we can capture a majority of augmentations into our vocabulary."
   ]
  },
  {
   "cell_type": "code",
   "execution_count": 25,
   "id": "9aa1bfb3-81cd-46bc-aebb-df9f5e529bfc",
   "metadata": {},
   "outputs": [],
   "source": [
    "train_example = []\n",
    "val_example = []\n",
    "\n",
    "train_expansion_factor = 100\n",
    "for j in range(train_expansion_factor):\n",
    "  for i in range(train_df.shape[0]):\n",
    "      try:\n",
    "          ex = data.Example.fromlist([train_df.question[i], train_df.solution[i]], fields)\n",
    "          train_example.append(ex)\n",
    "      except:\n",
    "          pass\n",
    "\n",
    "for i in range(val_df.shape[0]):\n",
    "    try:\n",
    "        ex = data.Example.fromlist([val_df.question[i], val_df.solution[i]], fields)\n",
    "        val_example.append(ex)\n",
    "    except:\n",
    "        pass"
   ]
  },
  {
   "cell_type": "code",
   "execution_count": 26,
   "id": "d58a04d9-e08e-4355-a875-a35c321f205f",
   "metadata": {},
   "outputs": [],
   "source": [
    "train_data = data.Dataset(train_example, fields)\n",
    "valid_data =  data.Dataset(val_example, fields)"
   ]
  },
  {
   "cell_type": "code",
   "execution_count": 27,
   "id": "4a423b54-eb98-4393-8926-53db242c4217",
   "metadata": {},
   "outputs": [],
   "source": [
    "Input.build_vocab(train_data, min_freq = 0)\n",
    "Output.build_vocab(train_data, min_freq = 0)"
   ]
  },
  {
   "cell_type": "code",
   "execution_count": 28,
   "id": "dd2dba67-3970-4fac-9937-d18c018a1094",
   "metadata": {},
   "outputs": [
    {
     "data": {
      "text/plain": [
       "<torchtext.vocab.Vocab at 0x22d72483af0>"
      ]
     },
     "execution_count": 28,
     "metadata": {},
     "output_type": "execute_result"
    }
   ],
   "source": [
    "Output.vocab"
   ]
  },
  {
   "cell_type": "code",
   "execution_count": 29,
   "id": "dbd443d4-f712-4b7a-a522-5b2de73136a8",
   "metadata": {},
   "outputs": [],
   "source": [
    "def save_vocab(vocab, path):\n",
    "    output = open(path, 'wb')\n",
    "    pickle.dump(vocab, output)\n",
    "    output.close()"
   ]
  },
  {
   "cell_type": "code",
   "execution_count": 30,
   "id": "4a9aa97f-76af-471a-9193-b71e3d091395",
   "metadata": {},
   "outputs": [],
   "source": [
    "save_vocab(Input.vocab, r\"vocabulary\\Input_vocab.pkl\")\n",
    "save_vocab(Output.vocab, r\"vocabulary\\Output_vocab.pkl\")"
   ]
  },
  {
   "cell_type": "markdown",
   "id": "76289aa9-d86d-49cd-a4c4-dd98fffe2b6f",
   "metadata": {},
   "source": [
    "# Transformer Architecture"
   ]
  },
  {
   "cell_type": "markdown",
   "id": "db663a0d-9f4c-48bb-813f-3abc5b82703e",
   "metadata": {},
   "source": [
    "<img src=\"images/tranformer.png\" style=\"display: block; margin: 0 auto;\">"
   ]
  },
  {
   "cell_type": "markdown",
   "id": "dce851a4-f748-43fb-a35f-7dd3d6973e44",
   "metadata": {},
   "source": [
    "Our transformer can be understood in terms of its three components:\n",
    "1. An Encoder that encodes an input sequence into state representation vectors.\n",
    "2. An Attention mechanism that enables our Transformer model to focus on the right aspects of the sequential input stream. This is used repeatedly within both the encoder and the decoder to help them contextualize the input data.\n",
    "3. A Decoder that decodes the state representation vector to generate the target output sequence"
   ]
  },
  {
   "cell_type": "markdown",
   "id": "f54024e5-220d-4d14-81b2-1b4142ee5c9c",
   "metadata": {},
   "source": [
    "# Encoder"
   ]
  },
  {
   "cell_type": "markdown",
   "id": "abdf41c0-a1ae-4fd0-a144-f1622c347d8b",
   "metadata": {},
   "source": [
    "<img src=\"images/encoder-output.png\" style=\"display: block; margin: 0 auto;\">"
   ]
  },
  {
   "cell_type": "markdown",
   "id": "82e44090-b82f-4d67-a696-b1ea2cb053e6",
   "metadata": {},
   "source": [
    "Our Encoder accepts a batch of source sequences and sequence masks as input. The source mask contains 1 in locations where the input sequence has valid values and 0 where the input sequence has <pad> values. This ensures that the attention mechanism within the encoder does not pay attention to <pad> values.\n",
    "\n",
    "We convert our source sequence tokens into embeddings(‘tok_embedding’) of ‘hid_dim’ length. Since were are not using any recurrent networks we need to tag each token with its positional indices in order to preserve sequential information. We create an indices tensor(i.e. ‘pos’) and convert this into an embedding(‘pos_embedding’) of length ‘hid_dim’. This is combined with the source sequence embeddings to create our initial Encoder Layer input tensor src. This src tensor is passed through a series of Encoder Layers."
   ]
  },
  {
   "cell_type": "code",
   "execution_count": 31,
   "id": "749cc7c4-8608-48a7-95f2-01d9363e30e4",
   "metadata": {},
   "outputs": [],
   "source": [
    "class Encoder(nn.Module):\n",
    "    def __init__(self, \n",
    "                 input_dim, \n",
    "                 hid_dim, \n",
    "                 n_layers, \n",
    "                 n_heads, \n",
    "                 pf_dim,\n",
    "                 dropout, \n",
    "                 device,\n",
    "                 max_length = 1000):\n",
    "        super().__init__()\n",
    "\n",
    "        self.device = device\n",
    "        \n",
    "        self.tok_embedding = nn.Embedding(input_dim, hid_dim)\n",
    "        self.pos_embedding = nn.Embedding(max_length, hid_dim)\n",
    "        \n",
    "        self.layers = nn.ModuleList([EncoderLayer(hid_dim, \n",
    "                                                  n_heads, \n",
    "                                                  pf_dim,\n",
    "                                                  dropout, \n",
    "                                                  device) \n",
    "                                     for _ in range(n_layers)])\n",
    "        \n",
    "        self.dropout = nn.Dropout(dropout)\n",
    "        \n",
    "        self.scale = torch.sqrt(torch.FloatTensor([hid_dim])).to(device)\n",
    "        \n",
    "    def forward(self, src, src_mask):\n",
    "        \n",
    "        batch_size = src.shape[0]\n",
    "        src_len = src.shape[1]\n",
    "\n",
    "        pos = torch.arange(0, src_len).unsqueeze(0).repeat(batch_size, 1).to(self.device)\n",
    "        \n",
    "        src = self.dropout((self.tok_embedding(src) * self.scale) + self.pos_embedding(pos))\n",
    "        \n",
    "        for layer in self.layers:\n",
    "            src = layer(src, src_mask)\n",
    "            \n",
    "        return src"
   ]
  },
  {
   "cell_type": "markdown",
   "id": "2256eafe-5710-46a0-8770-e44e746dcaea",
   "metadata": {},
   "source": [
    "An EncoderLayer is the basic building block of our Transformer’s Encoder component. Our src tensor along with its ‘src_mask’ are sent into a multi-head self-attention operation to help our model focus on the necessary aspects of the src tensor. The output from the attention operation is combined with the src tensor(via skip connection) and normalized to avoid vanishing/exploding gradients(during training). This combined output is sent into a PositionwiseFeedForwardLayer."
   ]
  },
  {
   "cell_type": "code",
   "execution_count": 32,
   "id": "bf658230-8b86-4288-9b61-434cb263a7a2",
   "metadata": {},
   "outputs": [],
   "source": [
    "class EncoderLayer(nn.Module):\n",
    "    def __init__(self, \n",
    "                 hid_dim, \n",
    "                 n_heads, \n",
    "                 pf_dim,  \n",
    "                 dropout, \n",
    "                 device):\n",
    "        super().__init__()\n",
    "        \n",
    "        self.self_attn_layer_norm = nn.LayerNorm(hid_dim)\n",
    "        self.ff_layer_norm = nn.LayerNorm(hid_dim)\n",
    "        self.self_attention = MultiHeadAttentionLayer(hid_dim, n_heads, dropout, device)\n",
    "        self.positionwise_feedforward = PositionwiseFeedforwardLayer(hid_dim, \n",
    "                                                                     pf_dim, \n",
    "                                                                     dropout)\n",
    "        self.dropout = nn.Dropout(dropout)\n",
    "        \n",
    "    def forward(self, src, src_mask):\n",
    "        \n",
    "        #self attention\n",
    "        _src, _ = self.self_attention(src, src, src, src_mask)\n",
    "        \n",
    "        #dropout, residual connection and layer norm\n",
    "        src = self.self_attn_layer_norm(src + self.dropout(_src))\n",
    "        \n",
    "        #positionwise feedforward\n",
    "        _src = self.positionwise_feedforward(src)\n",
    "        \n",
    "        #dropout, residual and layer norm\n",
    "        src = self.ff_layer_norm(src + self.dropout(_src))\n",
    "        \n",
    "        return src"
   ]
  },
  {
   "cell_type": "markdown",
   "id": "f36ce0b1-306b-4803-af2b-ef4cf75115b3",
   "metadata": {},
   "source": [
    "\n",
    "A PositionwiseFeedForwardLayer takes the combined input and processes it further using two fully connected layers and a Relu activation function between them. This in combination with the src embedding is the final output of an EncoderLayer. This process repeats for each EncoderLayer block."
   ]
  },
  {
   "cell_type": "code",
   "execution_count": 33,
   "id": "f4e1bb77-8be7-4bf5-81f6-cbcf2a0755ef",
   "metadata": {},
   "outputs": [],
   "source": [
    "class PositionwiseFeedforwardLayer(nn.Module):\n",
    "    def __init__(self, hid_dim, pf_dim, dropout):\n",
    "        super().__init__()\n",
    "        \n",
    "        self.fc_1 = nn.Linear(hid_dim, pf_dim)\n",
    "        self.fc_2 = nn.Linear(pf_dim, hid_dim)\n",
    "        self.dropout = nn.Dropout(dropout)\n",
    "        \n",
    "    def forward(self, x):\n",
    "        x = self.dropout(torch.relu(self.fc_1(x)))\n",
    "        x = self.fc_2(x)\n",
    "        \n",
    "        return x"
   ]
  },
  {
   "cell_type": "markdown",
   "id": "7d424cb8-dfa7-431f-a1e3-b4c5b6da694f",
   "metadata": {},
   "source": [
    "# Attention"
   ]
  },
  {
   "cell_type": "markdown",
   "id": "740c3cb1-8d2d-4e24-850e-de6e2ef3b968",
   "metadata": {},
   "source": [
    "<img src=\"images/self-attention_visualization.png\" style=\"display: block; margin: 0 auto;\">"
   ]
  },
  {
   "cell_type": "markdown",
   "id": "19508866-25ce-4c6f-87b9-137b6553b9a4",
   "metadata": {},
   "source": [
    "Attention is a mechanism that allows a model to focus on the necessary parts of the input sequence as per the demands of the task at hand.\n",
    "\n",
    "Researchers at google like to look at everything as an information retrieval problem. Therefore the [“Attention is all you need”](https://arxiv.org/abs/1706.03762) paper tries to look at attention in terms of “Query”, “Keys” and “Values”. A search engine accepts a “Query” and tries to match it up with Indices(i.e. Keys) in order to get appropriate values as results for the query. Similarly one can think of attention as a mechanism in which the query vector and key vector work towards getting the right attention weights(i.e. values).\n",
    "\n",
    "When multiple channels(or heads) of attention are applied in parallel to a single source, it is known as multi-head attention. This increases the learning capacity of the model and therefore leads to better results."
   ]
  },
  {
   "cell_type": "code",
   "execution_count": 34,
   "id": "9a7866f3-4ae5-4305-b4d7-23027c72e197",
   "metadata": {},
   "outputs": [],
   "source": [
    "class MultiHeadAttentionLayer(nn.Module):\n",
    "    def __init__(self, hid_dim, n_heads, dropout, device):\n",
    "        super().__init__()\n",
    "        \n",
    "        assert hid_dim % n_heads == 0\n",
    "        \n",
    "        self.hid_dim = hid_dim\n",
    "        self.n_heads = n_heads\n",
    "        self.head_dim = hid_dim // n_heads\n",
    "        \n",
    "        self.fc_q = nn.Linear(hid_dim, hid_dim)\n",
    "        self.fc_k = nn.Linear(hid_dim, hid_dim)\n",
    "        self.fc_v = nn.Linear(hid_dim, hid_dim)\n",
    "        \n",
    "        self.fc_o = nn.Linear(hid_dim, hid_dim)\n",
    "        \n",
    "        self.dropout = nn.Dropout(dropout)\n",
    "        \n",
    "        self.scale = torch.sqrt(torch.FloatTensor([self.head_dim])).to(device)\n",
    "        \n",
    "    def forward(self, query, key, value, mask = None):\n",
    "        \n",
    "        batch_size = query.shape[0]\n",
    "                \n",
    "        Q = self.fc_q(query)\n",
    "        K = self.fc_k(key)\n",
    "        V = self.fc_v(value)\n",
    "                \n",
    "        Q = Q.view(batch_size, -1, self.n_heads, self.head_dim).permute(0, 2, 1, 3)\n",
    "        K = K.view(batch_size, -1, self.n_heads, self.head_dim).permute(0, 2, 1, 3)\n",
    "        V = V.view(batch_size, -1, self.n_heads, self.head_dim).permute(0, 2, 1, 3)\n",
    "                \n",
    "        energy = torch.matmul(Q, K.permute(0, 1, 3, 2)) / self.scale\n",
    "        \n",
    "        if mask is not None:\n",
    "            energy = energy.masked_fill(mask == 0, -1e10)\n",
    "        \n",
    "        attention = torch.softmax(energy, dim = -1)\n",
    "                \n",
    "        x = torch.matmul(self.dropout(attention), V)\n",
    "        \n",
    "        x = x.permute(0, 2, 1, 3).contiguous()\n",
    "        \n",
    "        x = x.view(batch_size, -1, self.hid_dim)\n",
    "        \n",
    "        x = self.fc_o(x)\n",
    "        \n",
    "        return x, attention"
   ]
  },
  {
   "cell_type": "markdown",
   "id": "fdceeabf-11d0-4103-a2a2-5e8efc93a004",
   "metadata": {},
   "source": [
    "# Decoder"
   ]
  },
  {
   "cell_type": "markdown",
   "id": "d3354c5a-b69b-4207-8f89-69d98b443ce3",
   "metadata": {},
   "source": [
    "<img src=\"images/decoder-source-target-2.png\" style=\"display: block; margin: 0 auto;\">"
   ]
  },
  {
   "cell_type": "markdown",
   "id": "5c49ed48-498d-4703-8a16-a90607a37572",
   "metadata": {},
   "source": [
    "The architecture of a Decoder is very similar to that of the encoder with the significant differences resulting from the presence of input from two sources, the target sequence and the state representation vector from the encoder. Much like how we had an EncoderLayer block for Encoder, we will be having a DecoderLayer that accepts as input the combination of the embedding from the target token sequence(tok_embedding) and embedding of positional indices for these tokens. And as mentioned earlier, the encoder’s output also acts as one of the inputs to the DecoderLayer."
   ]
  },
  {
   "cell_type": "code",
   "execution_count": 35,
   "id": "9ac8dfe3-4d0a-412c-a0aa-9fe139c2e5d6",
   "metadata": {},
   "outputs": [],
   "source": [
    "class Decoder(nn.Module):\n",
    "    def __init__(self, \n",
    "                 output_dim, \n",
    "                 hid_dim, \n",
    "                 n_layers, \n",
    "                 n_heads, \n",
    "                 pf_dim, \n",
    "                 dropout, \n",
    "                 device,\n",
    "                 max_length = 10000):\n",
    "        super().__init__()\n",
    "        \n",
    "        self.device = device\n",
    "        \n",
    "        self.tok_embedding = nn.Embedding(output_dim, hid_dim)\n",
    "        \n",
    "        self.pos_embedding = nn.Embedding(max_length, hid_dim)\n",
    "        \n",
    "        self.layers = nn.ModuleList([DecoderLayer(hid_dim, \n",
    "                                                  n_heads, \n",
    "                                                  pf_dim, \n",
    "                                                  dropout, \n",
    "                                                  device)\n",
    "                                     for _ in range(n_layers)])\n",
    "        \n",
    "        self.fc_out = nn.Linear(hid_dim, output_dim)\n",
    "        \n",
    "        self.dropout = nn.Dropout(dropout)\n",
    "        \n",
    "        self.scale = torch.sqrt(torch.FloatTensor([hid_dim])).to(device)\n",
    "        \n",
    "    def forward(self, trg, enc_src, trg_mask, src_mask):\n",
    "                \n",
    "        batch_size = trg.shape[0]\n",
    "        \n",
    "        trg_len = trg.shape[1]\n",
    "        \n",
    "        pos = torch.arange(0, trg_len).unsqueeze(0).repeat(batch_size, 1).to(self.device)\n",
    "\n",
    "        trg = self.dropout((self.tok_embedding(trg) * self.scale) + self.pos_embedding(pos))\n",
    "        \n",
    "        for layer in self.layers:\n",
    "            trg, attention = layer(trg, enc_src, trg_mask, src_mask)\n",
    "        \n",
    "        output = self.fc_out(trg)\n",
    "            \n",
    "        return output, attention"
   ]
  },
  {
   "cell_type": "markdown",
   "id": "d54df356-5eda-47c5-a87e-046f32d86a98",
   "metadata": {},
   "source": [
    "The DecoderLayer forms the building block of our Transformer’s decoder. Each DecoderLayer involves two attention operations:\n",
    "1. Self-attention on trg embedding.\n",
    "2. Multi-head attention operation that uses the trg as query vector and the encoder outputs act as the key and value vectors.\n",
    "\n",
    "The presence of an extra Multi-head attention operation differentiates the DecoderLayer from an EncoderLayer.\n",
    "\n",
    "The attention outputs from self-attention are normalized and combined with the trg embedding using a residual connection. This is then sent into the multi-head attention operation along with the encoder outputs. The attention layer outputs are then combined with the trg input again and normalized before sending it into the position-wise feedforward layer to generate the final outputs of the DecoderLayer.\n",
    "\n",
    "The purpose of all normalization operations is to prevent vanishing/exploding gradients during training."
   ]
  },
  {
   "cell_type": "code",
   "execution_count": 36,
   "id": "44b78842-01a8-4f7b-ab03-a0735d344647",
   "metadata": {},
   "outputs": [],
   "source": [
    "class DecoderLayer(nn.Module):\n",
    "    def __init__(self, \n",
    "                 hid_dim, \n",
    "                 n_heads, \n",
    "                 pf_dim, \n",
    "                 dropout, \n",
    "                 device):\n",
    "        super().__init__()\n",
    "        \n",
    "        self.self_attn_layer_norm = nn.LayerNorm(hid_dim)\n",
    "        self.enc_attn_layer_norm = nn.LayerNorm(hid_dim)\n",
    "        self.ff_layer_norm = nn.LayerNorm(hid_dim)\n",
    "        self.self_attention = MultiHeadAttentionLayer(hid_dim, n_heads, dropout, device)\n",
    "        self.encoder_attention = MultiHeadAttentionLayer(hid_dim, n_heads, dropout, device)\n",
    "        self.positionwise_feedforward = PositionwiseFeedforwardLayer(hid_dim, \n",
    "                                                                     pf_dim, \n",
    "                                                                     dropout)\n",
    "        self.dropout = nn.Dropout(dropout)\n",
    "        \n",
    "    def forward(self, trg, enc_src, trg_mask, src_mask):\n",
    "        \n",
    "        #self attention\n",
    "        _trg, _ = self.self_attention(trg, trg, trg, trg_mask)\n",
    "        \n",
    "        #dropout, residual connection and layer norm\n",
    "        trg = self.self_attn_layer_norm(trg + self.dropout(_trg))\n",
    "            \n",
    "        #encoder attention\n",
    "        _trg, attention = self.encoder_attention(trg, enc_src, enc_src, src_mask)\n",
    "        # query, key, value\n",
    "        \n",
    "        #dropout, residual connection and layer norm\n",
    "        trg = self.enc_attn_layer_norm(trg + self.dropout(_trg))\n",
    "        \n",
    "        #positionwise feedforward\n",
    "        _trg = self.positionwise_feedforward(trg)\n",
    "        \n",
    "        #dropout, residual and layer norm\n",
    "        trg = self.ff_layer_norm(trg + self.dropout(_trg))\n",
    "        \n",
    "        return trg, attention\n",
    "     "
   ]
  },
  {
   "cell_type": "markdown",
   "id": "5ad5519a-a808-40f1-96ff-9e9408483a78",
   "metadata": {},
   "source": [
    "The main class that implements a transformer for seq2seq problems is given below."
   ]
  },
  {
   "cell_type": "code",
   "execution_count": 37,
   "id": "c00eab0e-b158-45b4-9a0c-01568118b72b",
   "metadata": {},
   "outputs": [],
   "source": [
    "class Seq2Seq(nn.Module):\n",
    "    def __init__(self, \n",
    "                 encoder, \n",
    "                 decoder, \n",
    "                 src_pad_idx, \n",
    "                 trg_pad_idx, \n",
    "                 device):\n",
    "        super().__init__()\n",
    "        \n",
    "        self.encoder = encoder\n",
    "        self.decoder = decoder\n",
    "        self.src_pad_idx = src_pad_idx\n",
    "        self.trg_pad_idx = trg_pad_idx\n",
    "        self.device = device\n",
    "        \n",
    "    def make_src_mask(self, src):\n",
    "        \n",
    "        src_mask = (src != self.src_pad_idx).unsqueeze(1).unsqueeze(2)\n",
    "\n",
    "        return src_mask\n",
    "    \n",
    "    def make_trg_mask(self, trg):\n",
    "        \n",
    "        trg_pad_mask = (trg != self.trg_pad_idx).unsqueeze(1).unsqueeze(2)\n",
    "        \n",
    "        trg_len = trg.shape[1]\n",
    "        \n",
    "        trg_sub_mask = torch.tril(torch.ones((trg_len, trg_len), device = self.device)).bool()\n",
    "            \n",
    "        trg_mask = trg_pad_mask & trg_sub_mask\n",
    "\n",
    "        return trg_mask\n",
    "\n",
    "    def forward(self, src, trg):\n",
    "        \n",
    "        src_mask = self.make_src_mask(src)\n",
    "        trg_mask = self.make_trg_mask(trg)\n",
    "\n",
    "        enc_src = self.encoder(src, src_mask)\n",
    "        \n",
    "        output, attention = self.decoder(trg, enc_src, trg_mask, src_mask)\n",
    "\n",
    "        return output, attention"
   ]
  },
  {
   "cell_type": "markdown",
   "id": "d1ab4ced-1b71-4bbb-8f2d-1b73d6fc3a94",
   "metadata": {},
   "source": [
    "# Training"
   ]
  },
  {
   "cell_type": "code",
   "execution_count": 38,
   "id": "a4c41757-d9ce-4742-87ee-8a7e93a78d74",
   "metadata": {},
   "outputs": [],
   "source": [
    "INPUT_DIM = len(Input.vocab)\n",
    "OUTPUT_DIM = len(Output.vocab)\n",
    "HID_DIM = 256\n",
    "ENC_LAYERS = 3\n",
    "DEC_LAYERS = 3\n",
    "ENC_HEADS = 16\n",
    "DEC_HEADS = 16\n",
    "ENC_PF_DIM = 512\n",
    "DEC_PF_DIM = 512\n",
    "ENC_DROPOUT = 0.1\n",
    "DEC_DROPOUT = 0.1\n",
    "\n",
    "enc = Encoder(INPUT_DIM, \n",
    "              HID_DIM, \n",
    "              ENC_LAYERS, \n",
    "              ENC_HEADS, \n",
    "              ENC_PF_DIM, \n",
    "              ENC_DROPOUT, \n",
    "              device)\n",
    "\n",
    "dec = Decoder(OUTPUT_DIM, \n",
    "              HID_DIM, \n",
    "              DEC_LAYERS, \n",
    "              DEC_HEADS, \n",
    "              DEC_PF_DIM, \n",
    "              DEC_DROPOUT, \n",
    "              device)"
   ]
  },
  {
   "cell_type": "code",
   "execution_count": 39,
   "id": "be618abb-9210-4d44-8dfa-50b109c3b511",
   "metadata": {},
   "outputs": [
    {
     "data": {
      "text/plain": [
       "5946"
      ]
     },
     "execution_count": 39,
     "metadata": {},
     "output_type": "execute_result"
    }
   ],
   "source": [
    "len(Output.vocab.__dict__['freqs'])"
   ]
  },
  {
   "cell_type": "code",
   "execution_count": 40,
   "id": "8ef68380-1a37-4f4e-8169-68a43225c012",
   "metadata": {},
   "outputs": [],
   "source": [
    "SRC_PAD_IDX = Input.vocab.stoi[Input.pad_token]\n",
    "TRG_PAD_IDX = Output.vocab.stoi[Output.pad_token]\n",
    "\n",
    "model = Seq2Seq(enc, dec, SRC_PAD_IDX, TRG_PAD_IDX, device).to(device)"
   ]
  },
  {
   "cell_type": "code",
   "execution_count": 41,
   "id": "dbbd7669-8e69-445c-9ab8-893e66548121",
   "metadata": {},
   "outputs": [
    {
     "name": "stdout",
     "output_type": "stream",
     "text": [
      "The model has 10,384,957 trainable parameters\n"
     ]
    }
   ],
   "source": [
    "def count_parameters(model):\n",
    "    return sum(p.numel() for p in model.parameters() if p.requires_grad)\n",
    "\n",
    "print(f'The model has {count_parameters(model):,} trainable parameters')"
   ]
  },
  {
   "cell_type": "code",
   "execution_count": 42,
   "id": "45630f26-d5bc-4f36-b23c-97aebc7b0dcd",
   "metadata": {},
   "outputs": [],
   "source": [
    "def initialize_weights(m):\n",
    "    if hasattr(m, 'weight') and m.weight.dim() > 1:\n",
    "        nn.init.xavier_uniform_(m.weight.data)"
   ]
  },
  {
   "cell_type": "code",
   "execution_count": 43,
   "id": "26c8e36c-fc42-48d1-b851-3f77f8a97f91",
   "metadata": {},
   "outputs": [],
   "source": [
    "model.apply(initialize_weights);"
   ]
  },
  {
   "cell_type": "code",
   "execution_count": 44,
   "id": "3f0bce05-752d-4e11-9541-e299b1bdbf30",
   "metadata": {},
   "outputs": [],
   "source": [
    "LEARNING_RATE = 0.0005\n",
    "\n",
    "optimizer = torch.optim.AdamW(model.parameters(), lr = LEARNING_RATE)"
   ]
  },
  {
   "cell_type": "markdown",
   "id": "cccf2d06-d761-40b9-8ca5-d50e5b2811fe",
   "metadata": {},
   "source": [
    "# Loss Function\n",
    "\n",
    "We have used augmentations in our dataset to mask variable literals. This means that our model can predict a variety of values for a particular variable and all of them are correct as long as the predictions are consistent through the code. This would mean that our training labels are not very certain and hence it would make more sense to treat them to be correct with probability ```1- smooth_eps``` and incorrect otherwise. This is what label smoothening enables us to do. The following is the implementation of CrossEntropyLoss with label smoothening."
   ]
  },
  {
   "cell_type": "code",
   "execution_count": 45,
   "id": "c2ffb495-d4ee-4d77-9dba-c5231b8ef266",
   "metadata": {},
   "outputs": [],
   "source": [
    "import torch\n",
    "import math\n",
    "import torch.nn as nn\n",
    "import torch.nn.functional as F\n",
    "\n",
    "class CrossEntropyLoss(nn.CrossEntropyLoss):\n",
    "    \"\"\"CrossEntropyLoss - with ability to recieve distrbution as targets, and optional label smoothing\"\"\"\n",
    "\n",
    "    def __init__(self, weight=None, ignore_index=-100, reduction='mean', smooth_eps=None, smooth_dist=None, from_logits=True):\n",
    "        super(CrossEntropyLoss, self).__init__(weight=weight,\n",
    "                                               ignore_index=ignore_index, reduction=reduction)\n",
    "        self.smooth_eps = smooth_eps\n",
    "        self.smooth_dist = smooth_dist\n",
    "        self.from_logits = from_logits\n",
    "\n",
    "    def forward(self, input, target, smooth_dist=None):\n",
    "        if smooth_dist is None:\n",
    "            smooth_dist = self.smooth_dist\n",
    "        return cross_entropy(input, target, weight=self.weight, ignore_index=self.ignore_index,\n",
    "                             reduction=self.reduction, smooth_eps=self.smooth_eps,\n",
    "                             smooth_dist=smooth_dist, from_logits=self.from_logits)\n",
    "\n",
    "\n",
    "def cross_entropy(inputs, target, weight=None, ignore_index=-100, reduction='mean',\n",
    "                  smooth_eps=None, smooth_dist=None, from_logits=True):\n",
    "    \"\"\"cross entropy loss, with support for target distributions and label smoothing https://arxiv.org/abs/1512.00567\"\"\"\n",
    "    smooth_eps = smooth_eps or 0\n",
    "\n",
    "    # ordinary log-liklihood - use cross_entropy from nn\n",
    "    if _is_long(target) and smooth_eps == 0:\n",
    "        if from_logits:\n",
    "            return F.cross_entropy(inputs, target, weight, ignore_index=ignore_index, reduction=reduction)\n",
    "        else:\n",
    "            return F.nll_loss(inputs, target, weight, ignore_index=ignore_index, reduction=reduction)\n",
    "\n",
    "    if from_logits:\n",
    "        # log-softmax of inputs\n",
    "        lsm = F.log_softmax(inputs, dim=-1)\n",
    "    else:\n",
    "        lsm = inputs\n",
    "\n",
    "    masked_indices = None\n",
    "    num_classes = inputs.size(-1)\n",
    "\n",
    "    if _is_long(target) and ignore_index >= 0:\n",
    "        masked_indices = target.eq(ignore_index)\n",
    "\n",
    "    if smooth_eps > 0 and smooth_dist is not None:\n",
    "        if _is_long(target):\n",
    "            target = onehot(target, num_classes).type_as(inputs)\n",
    "        if smooth_dist.dim() < target.dim():\n",
    "            smooth_dist = smooth_dist.unsqueeze(0)\n",
    "        target.lerp_(smooth_dist, smooth_eps)\n",
    "\n",
    "    if weight is not None:\n",
    "        lsm = lsm * weight.unsqueeze(0)\n",
    "\n",
    "    if _is_long(target):\n",
    "        eps_sum = smooth_eps / num_classes\n",
    "        eps_nll = 1. - eps_sum - smooth_eps\n",
    "        likelihood = lsm.gather(dim=-1, index=target.unsqueeze(-1)).squeeze(-1)\n",
    "        loss = -(eps_nll * likelihood + eps_sum * lsm.sum(-1))\n",
    "    else:\n",
    "        loss = -(target * lsm).sum(-1)\n",
    "\n",
    "    if masked_indices is not None:\n",
    "        loss.masked_fill_(masked_indices, 0)\n",
    "\n",
    "    if reduction == 'sum':\n",
    "        loss = loss.sum()\n",
    "    elif reduction == 'mean':\n",
    "        if masked_indices is None:\n",
    "            loss = loss.mean()\n",
    "        else:\n",
    "            loss = loss.sum() / float(loss.size(0) - masked_indices.sum())\n",
    "\n",
    "    return loss\n",
    "\n",
    "\n",
    "def onehot(indexes, N=None, ignore_index=None):\n",
    "    \"\"\"\n",
    "    Creates a one-representation of indexes with N possible entries\n",
    "    if N is not specified, it will suit the maximum index appearing.\n",
    "    indexes is a long-tensor of indexes\n",
    "    ignore_index will be zero in onehot representation\n",
    "    \"\"\"\n",
    "    if N is None:\n",
    "        N = indexes.max() + 1\n",
    "    sz = list(indexes.size())\n",
    "    output = indexes.new().byte().resize_(*sz, N).zero_()\n",
    "    output.scatter_(-1, indexes.unsqueeze(-1), 1)\n",
    "    if ignore_index is not None and ignore_index >= 0:\n",
    "        output.masked_fill_(indexes.eq(ignore_index).unsqueeze(-1), 0)\n",
    "    return output\n",
    "\n",
    "def _is_long(x):\n",
    "    if hasattr(x, 'data'):\n",
    "        x = x.data\n",
    "    return isinstance(x, torch.LongTensor) or isinstance(x, torch.cuda.LongTensor)"
   ]
  },
  {
   "cell_type": "code",
   "execution_count": 46,
   "id": "91c79ae7-6d0d-44f3-956c-4a317953d3db",
   "metadata": {},
   "outputs": [],
   "source": [
    "def maskNLLLoss(inp, target, mask):\n",
    "    nTotal = mask.sum()\n",
    "    crossEntropy = CrossEntropyLoss(ignore_index = TRG_PAD_IDX, smooth_eps=0.20)\n",
    "    loss = crossEntropy(inp, target)\n",
    "    loss = loss.to(device)\n",
    "    return loss, nTotal.item()"
   ]
  },
  {
   "cell_type": "code",
   "execution_count": 47,
   "id": "eb86e66b-6840-4be4-a268-d6cd24a8a697",
   "metadata": {},
   "outputs": [],
   "source": [
    "criterion = maskNLLLoss"
   ]
  },
  {
   "cell_type": "markdown",
   "id": "0cd21a3c-0d1e-47af-8913-bd7c555a4b8b",
   "metadata": {},
   "source": [
    "# Training\n",
    "In order to re-apply our augmentations differently in every epoch we re-create our dataset and dataloaders at the start of each epoch. This regularizes our training process and helps us come up with better models."
   ]
  },
  {
   "cell_type": "code",
   "execution_count": 48,
   "id": "a34d254f-0ef7-4be8-bcb3-ff116232798a",
   "metadata": {},
   "outputs": [],
   "source": [
    "from tqdm import tqdm\n",
    "\n",
    "def make_trg_mask(trg):\n",
    "\n",
    "        trg_pad_mask = (trg != TRG_PAD_IDX).unsqueeze(1).unsqueeze(2)\n",
    "\n",
    "        trg_len = trg.shape[1]\n",
    "        \n",
    "        trg_sub_mask = torch.tril(torch.ones((trg_len, trg_len), device = device)).bool()\n",
    "   \n",
    "        trg_mask = trg_pad_mask & trg_sub_mask\n",
    "\n",
    "        return trg_mask\n",
    "\n",
    "def train(model, iterator, optimizer, criterion, clip):\n",
    "    \n",
    "    model.train()\n",
    "    \n",
    "    n_totals = 0\n",
    "    print_losses = []\n",
    "    for i, batch in tqdm(enumerate(iterator), total=len(iterator)):\n",
    "        # print(batch)\n",
    "        loss = 0\n",
    "        src = batch.Input.permute(1, 0)\n",
    "        trg = batch.Output.permute(1, 0)\n",
    "        trg_mask = make_trg_mask(trg)\n",
    "        optimizer.zero_grad()\n",
    "        \n",
    "        output, _ = model(src, trg[:,:-1])\n",
    "        \n",
    "        output_dim = output.shape[-1]\n",
    "            \n",
    "        output = output.contiguous().view(-1, output_dim)\n",
    "        trg = trg[:,1:].contiguous().view(-1)\n",
    "    \n",
    "        mask_loss, nTotal = criterion(output, trg, trg_mask)\n",
    "        \n",
    "        mask_loss.backward()\n",
    "        \n",
    "        torch.nn.utils.clip_grad_norm_(model.parameters(), clip)\n",
    "        \n",
    "        optimizer.step()\n",
    "        \n",
    "        print_losses.append(mask_loss.item() * nTotal)\n",
    "        n_totals += nTotal\n",
    "\n",
    "    return sum(print_losses) / n_totals"
   ]
  },
  {
   "cell_type": "code",
   "execution_count": 49,
   "id": "0d69f57c-a0c1-4b5c-816f-ee3466e14412",
   "metadata": {},
   "outputs": [],
   "source": [
    "def evaluate(model, iterator, criterion):\n",
    "    \n",
    "    model.eval()\n",
    "    \n",
    "    n_totals = 0\n",
    "    print_losses = []\n",
    "    \n",
    "    with torch.no_grad():\n",
    "    \n",
    "        for i, batch in tqdm(enumerate(iterator), total=len(iterator)):\n",
    "\n",
    "            src = batch.Input.permute(1, 0)\n",
    "            trg = batch.Output.permute(1, 0)\n",
    "            trg_mask = make_trg_mask(trg)\n",
    "\n",
    "            output, _ = model(src, trg[:,:-1])\n",
    "\n",
    "            output_dim = output.shape[-1]\n",
    "            \n",
    "            output = output.contiguous().view(-1, output_dim)\n",
    "            trg = trg[:,1:].contiguous().view(-1)\n",
    "\n",
    "            mask_loss, nTotal = criterion(output, trg, trg_mask)\n",
    "\n",
    "            print_losses.append(mask_loss.item() * nTotal)\n",
    "            n_totals += nTotal\n",
    "\n",
    "        \n",
    "    return sum(print_losses) / n_totals"
   ]
  },
  {
   "cell_type": "code",
   "execution_count": 50,
   "id": "c8443376-2633-449a-957a-1ed617178870",
   "metadata": {},
   "outputs": [],
   "source": [
    "def epoch_time(start_time, end_time):\n",
    "    elapsed_time = end_time - start_time\n",
    "    elapsed_mins = int(elapsed_time / 60)\n",
    "    elapsed_secs = int(elapsed_time - (elapsed_mins * 60))\n",
    "    return elapsed_mins, elapsed_secs"
   ]
  },
  {
   "cell_type": "code",
   "execution_count": 51,
   "id": "f9863202-90f1-4adb-ab7b-bf52379f4548",
   "metadata": {},
   "outputs": [
    {
     "name": "stderr",
     "output_type": "stream",
     "text": [
      "100%|████████████████████████████████████████████████████████████████████████████████| 235/235 [00:58<00:00,  3.99it/s]\n",
      "100%|████████████████████████████████████████████████████████████████████████████████████| 8/8 [00:00<00:00, 23.47it/s]\n"
     ]
    },
    {
     "name": "stdout",
     "output_type": "stream",
     "text": [
      "Epoch: 01 | Time: 1m 2s\n",
      "\tTrain Loss: 5.045 | Train PPL: 155.320\n",
      "\t Val. Loss: 4.326 |  Val. PPL:  75.619\n"
     ]
    },
    {
     "name": "stderr",
     "output_type": "stream",
     "text": [
      "100%|████████████████████████████████████████████████████████████████████████████████| 235/235 [00:58<00:00,  4.00it/s]\n",
      "100%|████████████████████████████████████████████████████████████████████████████████████| 8/8 [00:00<00:00, 23.25it/s]\n"
     ]
    },
    {
     "name": "stdout",
     "output_type": "stream",
     "text": [
      "Epoch: 02 | Time: 1m 0s\n",
      "\tTrain Loss: 4.207 | Train PPL:  67.158\n",
      "\t Val. Loss: 4.048 |  Val. PPL:  57.261\n"
     ]
    },
    {
     "name": "stderr",
     "output_type": "stream",
     "text": [
      "100%|████████████████████████████████████████████████████████████████████████████████| 235/235 [01:00<00:00,  3.86it/s]\n",
      "100%|████████████████████████████████████████████████████████████████████████████████████| 8/8 [00:00<00:00, 20.51it/s]\n"
     ]
    },
    {
     "name": "stdout",
     "output_type": "stream",
     "text": [
      "Epoch: 03 | Time: 1m 2s\n",
      "\tTrain Loss: 3.989 | Train PPL:  53.981\n",
      "\t Val. Loss: 3.930 |  Val. PPL:  50.928\n"
     ]
    },
    {
     "name": "stderr",
     "output_type": "stream",
     "text": [
      "100%|████████████████████████████████████████████████████████████████████████████████| 235/235 [01:00<00:00,  3.89it/s]\n",
      "100%|████████████████████████████████████████████████████████████████████████████████████| 8/8 [00:00<00:00, 21.83it/s]\n"
     ]
    },
    {
     "name": "stdout",
     "output_type": "stream",
     "text": [
      "Epoch: 04 | Time: 1m 2s\n",
      "\tTrain Loss: 3.823 | Train PPL:  45.720\n",
      "\t Val. Loss: 3.862 |  Val. PPL:  47.566\n"
     ]
    },
    {
     "name": "stderr",
     "output_type": "stream",
     "text": [
      "100%|████████████████████████████████████████████████████████████████████████████████| 235/235 [00:59<00:00,  3.96it/s]\n",
      "100%|████████████████████████████████████████████████████████████████████████████████████| 8/8 [00:00<00:00, 20.54it/s]\n"
     ]
    },
    {
     "name": "stdout",
     "output_type": "stream",
     "text": [
      "Epoch: 05 | Time: 1m 1s\n",
      "\tTrain Loss: 3.703 | Train PPL:  40.557\n",
      "\t Val. Loss: 3.746 |  Val. PPL:  42.350\n"
     ]
    }
   ],
   "source": [
    "N_EPOCHS = 5\n",
    "CLIP = 1\n",
    "\n",
    "best_valid_loss = float('inf')\n",
    "\n",
    "for epoch in range(N_EPOCHS):\n",
    "    \n",
    "    start_time = time.time()\n",
    "    \n",
    "    train_example = []\n",
    "    val_example = []\n",
    "\n",
    "    for i in range(train_df.shape[0]):\n",
    "        try:\n",
    "            ex = data.Example.fromlist([train_df.question[i], train_df.solution[i]], fields)\n",
    "            train_example.append(ex)\n",
    "        except:\n",
    "            pass\n",
    "\n",
    "    for i in range(val_df.shape[0]):\n",
    "        try:\n",
    "            ex = data.Example.fromlist([val_df.question[i], val_df.solution[i]], fields)\n",
    "            val_example.append(ex)\n",
    "        except:\n",
    "            pass       \n",
    "\n",
    "    train_data = data.Dataset(train_example, fields)\n",
    "    valid_data =  data.Dataset(val_example, fields)\n",
    "\n",
    "    BATCH_SIZE = 16\n",
    "    train_iterator, valid_iterator = BucketIterator.splits((train_data, valid_data), batch_size = BATCH_SIZE, \n",
    "                                                                sort_key = lambda x: len(x.Input),\n",
    "                                                                sort_within_batch=True, device = device)\n",
    "\n",
    "    train_loss = train(model, train_iterator, optimizer, criterion, CLIP)\n",
    "    valid_loss = evaluate(model, valid_iterator, criterion)\n",
    "    \n",
    "    end_time = time.time()\n",
    "    \n",
    "    epoch_mins, epoch_secs = epoch_time(start_time, end_time)\n",
    "    \n",
    "    if valid_loss < best_valid_loss:\n",
    "        best_valid_loss = valid_loss\n",
    "        torch.save({'model_state_dict': model.state_dict(),'optimizer_state_dict': optimizer.state_dict(),'best_valid_loss': best_valid_loss,}\n",
    "                   ,'model/model2.pt')\n",
    "    \n",
    "    print(f'Epoch: {epoch+1:02} | Time: {epoch_mins}m {epoch_secs}s')\n",
    "    print(f'\\tTrain Loss: {train_loss:.3f} | Train PPL: {math.exp(train_loss):7.3f}')\n",
    "    print(f'\\t Val. Loss: {valid_loss:.3f} |  Val. PPL: {math.exp(valid_loss):7.3f}')"
   ]
  },
  {
   "cell_type": "markdown",
   "id": "45322a35-41cc-42e7-9771-1b005a7361c1",
   "metadata": {},
   "source": [
    "# Retrain the Model from Saved Checkpoint"
   ]
  },
  {
   "cell_type": "code",
   "execution_count": 52,
   "id": "3d4a1f06-c0f0-497e-a761-2fd345f4ac55",
   "metadata": {},
   "outputs": [
    {
     "name": "stderr",
     "output_type": "stream",
     "text": [
      "100%|████████████████████████████████████████████████████████████████████████████████| 235/235 [00:59<00:00,  3.93it/s]\n",
      "100%|████████████████████████████████████████████████████████████████████████████████████| 8/8 [00:00<00:00, 22.23it/s]\n"
     ]
    },
    {
     "name": "stdout",
     "output_type": "stream",
     "text": [
      "Epoch: 01 | Time: 1m 1s\n",
      "\tTrain Loss: 3.611 | Train PPL:  36.991\n",
      "\t Val. Loss: 3.719 |  Val. PPL:  41.226\n"
     ]
    },
    {
     "name": "stderr",
     "output_type": "stream",
     "text": [
      "100%|████████████████████████████████████████████████████████████████████████████████| 235/235 [01:02<00:00,  3.77it/s]\n",
      "100%|████████████████████████████████████████████████████████████████████████████████████| 8/8 [00:00<00:00, 20.09it/s]\n"
     ]
    },
    {
     "name": "stdout",
     "output_type": "stream",
     "text": [
      "Epoch: 02 | Time: 1m 4s\n",
      "\tTrain Loss: 3.521 | Train PPL:  33.830\n",
      "\t Val. Loss: 3.635 |  Val. PPL:  37.907\n"
     ]
    }
   ],
   "source": [
    "checkpoint = torch.load('model/model2.pt')\n",
    "model.load_state_dict(checkpoint['model_state_dict'])\n",
    "optimizer.load_state_dict(checkpoint['optimizer_state_dict'])\n",
    "best_valid_loss = checkpoint['best_valid_loss']\n",
    "\n",
    "# Set the model to training mode\n",
    "model.train()\n",
    "\n",
    "# Continue training\n",
    "for epoch in range(2): # Set the number of epochs you want to retain the model on\n",
    "    \n",
    "    start_time = time.time()\n",
    "    \n",
    "    train_example = []\n",
    "    val_example = []\n",
    "\n",
    "    for i in range(train_df.shape[0]):\n",
    "        try:\n",
    "            ex = data.Example.fromlist([train_df.question[i], train_df.solution[i]], fields)\n",
    "            train_example.append(ex)\n",
    "        except:\n",
    "            pass\n",
    "\n",
    "    for i in range(val_df.shape[0]):\n",
    "        try:\n",
    "            ex = data.Example.fromlist([val_df.question[i], val_df.solution[i]], fields)\n",
    "            val_example.append(ex)\n",
    "        except:\n",
    "            pass       \n",
    "\n",
    "    train_data = data.Dataset(train_example, fields)\n",
    "    valid_data =  data.Dataset(val_example, fields)\n",
    "\n",
    "    BATCH_SIZE = 16\n",
    "    train_iterator, valid_iterator = BucketIterator.splits((train_data, valid_data), batch_size = BATCH_SIZE, \n",
    "                                                                sort_key = lambda x: len(x.Input),\n",
    "                                                                sort_within_batch=True, device = device)\n",
    "\n",
    "    train_loss = train(model, train_iterator, optimizer, criterion, CLIP)\n",
    "    valid_loss = evaluate(model, valid_iterator, criterion)\n",
    "    \n",
    "    end_time = time.time()\n",
    "    \n",
    "    epoch_mins, epoch_secs = epoch_time(start_time, end_time)\n",
    "    \n",
    "    if valid_loss < best_valid_loss:\n",
    "        best_valid_loss = valid_loss\n",
    "        torch.save({'model_state_dict': model.state_dict(),'optimizer_state_dict': optimizer.state_dict(),'best_valid_loss': best_valid_loss,}\n",
    "                   ,'model/model2.pt')\n",
    "    \n",
    "    \n",
    "    print(f'Epoch: {epoch+1:02} | Time: {epoch_mins}m {epoch_secs}s')\n",
    "    print(f'\\tTrain Loss: {train_loss:.3f} | Train PPL: {math.exp(train_loss):7.3f}')\n",
    "    print(f'\\t Val. Loss: {valid_loss:.3f} |  Val. PPL: {math.exp(valid_loss):7.3f}')\n"
   ]
  },
  {
   "cell_type": "code",
   "execution_count": 53,
   "id": "f596d505-cbc0-454a-9b55-84d96b7309f7",
   "metadata": {},
   "outputs": [],
   "source": [
    "SRC = Input\n",
    "TRG = Output"
   ]
  },
  {
   "cell_type": "markdown",
   "id": "e9fa941d-4d10-4a69-9395-da35cf41bf34",
   "metadata": {},
   "source": [
    "### LOAD THE MODEL"
   ]
  },
  {
   "cell_type": "code",
   "execution_count": 63,
   "id": "cd60b7fc-e99f-4e41-92b5-085ce72685ce",
   "metadata": {},
   "outputs": [],
   "source": [
    "checkpoint = torch.load('model/model1.pt')\n",
    "model.load_state_dict(checkpoint['model_state_dict'])\n",
    "optimizer.load_state_dict(checkpoint['optimizer_state_dict'])\n",
    "best_valid_loss = checkpoint['best_valid_loss']"
   ]
  },
  {
   "cell_type": "code",
   "execution_count": 64,
   "id": "40eed6b5-3cf7-4c9f-be20-7a9e23a4e7ef",
   "metadata": {},
   "outputs": [],
   "source": [
    "def translate_sentence(sentence, src_field, trg_field, model, device, max_len = 50000):\n",
    "    \n",
    "    model.eval()\n",
    "        \n",
    "    if isinstance(sentence, str):\n",
    "        nlp = spacy.load('en')\n",
    "        tokens = [token.text.lower() for token in nlp(sentence)]\n",
    "    else:\n",
    "        tokens = [token.lower() for token in sentence]\n",
    "\n",
    "    tokens = [src_field.init_token] + tokens + [src_field.eos_token]\n",
    "        \n",
    "    src_indexes = [src_field.vocab.stoi[token] for token in tokens]\n",
    "\n",
    "    src_tensor = torch.LongTensor(src_indexes).unsqueeze(0).to(device)\n",
    "    \n",
    "    src_mask = model.make_src_mask(src_tensor)\n",
    "    \n",
    "    with torch.no_grad():\n",
    "        enc_src = model.encoder(src_tensor, src_mask)\n",
    "\n",
    "    trg_indexes = [trg_field.vocab.stoi[trg_field.init_token]]\n",
    "\n",
    "    for i in range(max_len):\n",
    "\n",
    "        trg_tensor = torch.LongTensor(trg_indexes).unsqueeze(0).to(device)\n",
    "\n",
    "        trg_mask = model.make_trg_mask(trg_tensor)\n",
    "        \n",
    "        with torch.no_grad():\n",
    "            output, attention = model.decoder(trg_tensor, enc_src, trg_mask, src_mask)\n",
    "        \n",
    "        pred_token = output.argmax(2)[:,-1].item()\n",
    "        \n",
    "        trg_indexes.append(pred_token)\n",
    "\n",
    "        if pred_token == trg_field.vocab.stoi[trg_field.eos_token]:\n",
    "            break\n",
    "    \n",
    "    trg_tokens = [trg_field.vocab.itos[i] for i in trg_indexes]\n",
    "    \n",
    "    return trg_tokens[1:], attention"
   ]
  },
  {
   "cell_type": "code",
   "execution_count": 65,
   "id": "2352c5e2-d2b2-4e1f-a4a6-31a5a30c58e9",
   "metadata": {},
   "outputs": [],
   "source": [
    "def display_attention(sentence, translation, attention, n_heads = 8, n_rows = 4, n_cols = 2):\n",
    "    \n",
    "    assert n_rows * n_cols == n_heads\n",
    "    \n",
    "    fig = plt.figure(figsize=(30,50))\n",
    "    \n",
    "    for i in range(n_heads):\n",
    "        \n",
    "        ax = fig.add_subplot(n_rows, n_cols, i+1)\n",
    "        \n",
    "        _attention = attention.squeeze(0)[i].cpu().detach().numpy()\n",
    "\n",
    "        cax = ax.matshow(_attention, cmap='bone')\n",
    "\n",
    "        ax.tick_params(labelsize=12)\n",
    "        ax.set_xticklabels(['']+['<sos>']+[t.lower() for t in sentence]+['<eos>'], \n",
    "                           rotation=45)\n",
    "        ax.set_yticklabels(['']+translation)\n",
    "\n",
    "        ax.xaxis.set_major_locator(ticker.MultipleLocator(1))\n",
    "        ax.yaxis.set_major_locator(ticker.MultipleLocator(1))\n",
    "\n",
    "    plt.show()"
   ]
  },
  {
   "cell_type": "code",
   "execution_count": 66,
   "id": "376f8c47-4b65-4eeb-a42e-6601a9d93183",
   "metadata": {},
   "outputs": [
    {
     "name": "stdout",
     "output_type": "stream",
     "text": [
      "predicted trg sequence: \n",
      "[(62, 'utf-8'), (1, 'def'), (1, 'add'), (54, '('), (1, 'x'), (54, ','), (1, 'y'), (54, ')'), (54, ':'), (4, '\\n'), (5, '    '), (1, 'return'), (1, 'x'), (54, '+'), (1, 'y'), (4, ''), (6, ''), (0, ''), '']\n",
      "code: \n",
      " def add (x ,y ):\n",
      "    return x +y \n"
     ]
    }
   ],
   "source": [
    "src = \"write a function that adds two numbers\"\n",
    "src=src.split(\" \")\n",
    "translation, attention = translate_sentence(src, SRC, TRG, model, device)\n",
    "\n",
    "print(f'predicted trg sequence: ')\n",
    "print(translation)\n",
    "print(\"code: \\n\", untokenize(translation[:-1]).decode('utf-8'))"
   ]
  },
  {
   "cell_type": "code",
   "execution_count": 67,
   "id": "713ea1ec-4c59-42a0-b2fd-109ead6ba9a7",
   "metadata": {},
   "outputs": [
    {
     "name": "stderr",
     "output_type": "stream",
     "text": [
      "C:\\Users\\shrey\\AppData\\Local\\Temp\\ipykernel_16396\\2379752938.py:16: UserWarning: FixedFormatter should only be used together with FixedLocator\n",
      "  ax.set_xticklabels(['']+['<sos>']+[t.lower() for t in sentence]+['<eos>'],\n",
      "C:\\Users\\shrey\\AppData\\Local\\Temp\\ipykernel_16396\\2379752938.py:18: UserWarning: FixedFormatter should only be used together with FixedLocator\n",
      "  ax.set_yticklabels(['']+translation)\n"
     ]
    },
    {
     "data": {
      "image/png": "[encoded data removed]",
      "text/plain": [
       "<Figure size 3000x5000 with 8 Axes>"
      ]
     },
     "metadata": {},
     "output_type": "display_data"
    }
   ],
   "source": [
    "display_attention(src, translation, attention)"
   ]
  },
  {
   "cell_type": "markdown",
   "id": "67c48a65-3472-463a-bb36-42d6e76b8cb0",
   "metadata": {},
   "source": [
    "# Sample Outputs for Python Code Generation\n",
    "Lets load our pretrained model to perform inference on a set of examples"
   ]
  },
  {
   "cell_type": "raw",
   "id": "22c5d714-38c8-48ac-93eb-488b8a2f83a5",
   "metadata": {},
   "source": [
    "model.load_state_dict(torch.load('model/model2.pt'))"
   ]
  },
  {
   "cell_type": "markdown",
   "id": "5e39c0fa-d878-41f0-b9f0-3141b68cdceb",
   "metadata": {},
   "source": [
    "Function that translates an English src string to python code."
   ]
  },
  {
   "cell_type": "code",
   "execution_count": 68,
   "id": "fa955fc7-29d0-4d10-9abf-0f2c7cfa8b45",
   "metadata": {},
   "outputs": [],
   "source": [
    "def eng_to_python(src):\n",
    "  src=src.split(\" \")\n",
    "  translation, attention = translate_sentence(src, SRC, TRG, model, device)\n",
    "\n",
    "  print(f'predicted trg: \\n')\n",
    "  # print(translation)\n",
    "  print(untokenize(translation[:-1]).decode('utf-8'))"
   ]
  },
  {
   "cell_type": "markdown",
   "id": "47287f8b-62e0-46cf-981e-01a4dc3668fb",
   "metadata": {},
   "source": [
    "# Examples"
   ]
  },
  {
   "cell_type": "code",
   "execution_count": 69,
   "id": "a8209afa-b6bb-4ff1-99ec-3c2066e82a84",
   "metadata": {},
   "outputs": [
    {
     "name": "stdout",
     "output_type": "stream",
     "text": [
      "predicted trg: \n",
      "\n",
      "var_1 ={\"a\":1 ,\"b\":2 ,\"c\":3 ,\"d\":4 }\n",
      "for k ,v in var_1 .items ():\n",
      "    print (k ,v )\n"
     ]
    }
   ],
   "source": [
    "src = \"program to sort a list of dictionaries by key\"\n",
    "\n",
    "eng_to_python(src)"
   ]
  },
  {
   "cell_type": "code",
   "execution_count": 70,
   "id": "d12cc800-d180-4976-98f1-3501d995b5bb",
   "metadata": {},
   "outputs": [
    {
     "name": "stdout",
     "output_type": "stream",
     "text": [
      "predicted trg: \n",
      "\n",
      "def merge_lists (var_1 :list ,l2 :list ):\n",
      "    return list (zip (var_1 ,l2 ))\n"
     ]
    }
   ],
   "source": [
    "src = \"write a function to merge two lists\"\n",
    "\n",
    "eng_to_python(src)"
   ]
  },
  {
   "cell_type": "code",
   "execution_count": null,
   "id": "634e7046-72d3-4567-81f1-82e2430bdb13",
   "metadata": {},
   "outputs": [],
   "source": []
  }
 ],
 "metadata": {
  "kernelspec": {
   "display_name": "Python 3 (ipykernel)",
   "language": "python",
   "name": "python3"
  },
  "language_info": {
   "codemirror_mode": {
    "name": "ipython",
    "version": 3
   },
   "file_extension": ".py",
   "mimetype": "text/x-python",
   "name": "python",
   "nbconvert_exporter": "python",
   "pygments_lexer": "ipython3",
   "version": "3.8.19"
  }
 },
 "nbformat": 4,
 "nbformat_minor": 5
}
